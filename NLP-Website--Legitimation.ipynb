{
 "cells": [
  {
   "cell_type": "markdown",
   "metadata": {},
   "source": [
    "# NLP-Website-Legitimation"
   ]
  },
  {
   "attachments": {
    "image.png": {
     "image/png": "[encoded data removed]"
    }
   },
   "cell_type": "markdown",
   "metadata": {},
   "source": [
    "## Introduction\n",
    "\n",
    "This project is about to demonstrate how to use NLP to detect if a website is legitimate.\n",
    "Currently, work on English websites.\n",
    "\n",
    "Flow:\n",
    "![image.png](attachment:image.png)\n"
   ]
  },
  {
   "cell_type": "code",
   "execution_count": 1,
   "metadata": {},
   "outputs": [],
   "source": [
    "#Step:1 - Libraries\n",
    "import time\n",
    "import requests\n",
    "from bs4 import BeautifulSoup\n",
    "import urllib\n",
    "import os\n",
    "\n",
    "#Data path folder\n",
    "path = 'G:/DataScienceProject/webcrawler/test/'"
   ]
  },
  {
   "cell_type": "markdown",
   "metadata": {},
   "source": [
    "On webcrawler part, we shell extract all href (links) into single html file.\n",
    "The idea is to collect all natual languages from all website part for further NLP catorization."
   ]
  },
  {
   "cell_type": "code",
   "execution_count": 2,
   "metadata": {},
   "outputs": [],
   "source": [
    "#Step:2 - WebCrawler\n",
    "def webcrawler(url, path):\n",
    "    print(\"Start webcrawler: \\n\", url )\n",
    "    def folderBuilder(url, path):\n",
    "        global newpath\n",
    "        global webpageName\n",
    "        position = [pos for pos, char in enumerate(url) if char == '.']\n",
    "        position[0] = int(position[0]) + 1\n",
    "        webpageName = url[position[0]:position[1]]\n",
    "\n",
    "        # Check / at end of path\n",
    "        len(path) - 1\n",
    "        if path[len(path) - 1:] == '/':\n",
    "            os.mkdir(path + webpageName)\n",
    "            newpath = path + webpageName\n",
    "        else:\n",
    "            os.mkdir(path + '/' + webpageName)\n",
    "            newpath = path + '/' + webpageName\n",
    "\n",
    "        print(\"Building website folder\")\n",
    "        return\n",
    "\n",
    "    def getData(url):\n",
    "        print(\"Get main url\")\n",
    "        global data\n",
    "        # Open the URL as Browser, not as python urllib\n",
    "        page = urllib.request.Request(url, headers={\n",
    "            'User-Agent': '\"Mozilla/5.0 (Windows NT 10.0; Win64; x64) AppleWebKit/537.36 (KHTML, like Gecko) Chrome/47.0.2526.69 Safari/537.36\"'})\n",
    "        soup = urllib.request.urlopen(page).read()\n",
    "        data = BeautifulSoup(soup, \"html.parser\")\n",
    "\n",
    "        return\n",
    "\n",
    "    def hrefAgg(data):\n",
    "        print(\"Create HREF list\")\n",
    "        global hrefStartList\n",
    "        # Aggregate href into file\n",
    "        hrefStartList = list(data.findAll('a'))\n",
    "\n",
    "        for i in range(len(hrefStartList)):\n",
    "            link = str(hrefStartList[i])\n",
    "            link = link[9:]\n",
    "            link = link[:link.find('\"')]\n",
    "            # Check for http/https\n",
    "            if link[0:4] == 'http':\n",
    "                hrefStartList[i] = link\n",
    "            else:\n",
    "                hrefStartList[i] = ''\n",
    "\n",
    "        # Remove dup\n",
    "        hrefStartList = list(dict.fromkeys(hrefStartList))\n",
    "        if hrefStartList.count('') == 1:\n",
    "            del hrefStartList[hrefStartList.index('')]\n",
    "\n",
    "        if hrefStartList != ['']:\n",
    "            href2file = newpath + '/' + 'href.txt'\n",
    "            file2write = open(href2file, 'w')\n",
    "            file2write.write(str(hrefStartList))\n",
    "            file2write.close()\n",
    "\n",
    "        return\n",
    "\n",
    "    def getMyHrefs(myUrl):\n",
    "        print(myUrl)\n",
    "        global data1\n",
    "        page = urllib.request.Request(url, headers={\n",
    "            'User-Agent': '\"Mozilla/5.0 (Windows NT 10.0; Win64; x64) AppleWebKit/537.36 (KHTML, like Gecko) Chrome/47.0.2526.69 Safari/537.36\"'})\n",
    "        soup1 = urllib.request.urlopen(page).read()\n",
    "        data1 = BeautifulSoup(soup1, \"html.parser\")\n",
    "\n",
    "        time.sleep(1)\n",
    "\n",
    "        return\n",
    "\n",
    "    folderBuilder(url, path)\n",
    "    getData(url)\n",
    "    hrefAgg(data)\n",
    "    data0 = str(data)\n",
    "    for i in range(len(hrefStartList)):\n",
    "        myUrl = hrefStartList[i]\n",
    "        getMyHrefs(myUrl)\n",
    "        data0 = data0 + str(data1)\n",
    "\n",
    "    AppendHref2File = newpath + '/' + 'full_website.txt'\n",
    "    file2write = open(AppendHref2File, 'w', encoding='utf8')\n",
    "    file2write.write(data0)\n",
    "    file2write.close()\n",
    "    print(\"Complete webcrawler\")\n",
    "    return"
   ]
  },
  {
   "cell_type": "code",
   "execution_count": 3,
   "metadata": {},
   "outputs": [
    {
     "name": "stdout",
     "output_type": "stream",
     "text": [
      "Start webcrawler: \n",
      " https://www.hbo.com/\n",
      "Building website folder\n",
      "Get main url\n",
      "Create HREF list\n",
      "https://www.hbo.com/insecure\n",
      "Complete webcrawler\n"
     ]
    }
   ],
   "source": [
    "#Step:3 - Run the webcrawler function\n",
    "#For websites list\n",
    "#Ural format: 'https://www.hbo.com/'\n",
    "testList = ['https://www.hbo.com/']\n",
    "for z, aurl in enumerate(testList):\n",
    "    try:\n",
    "        webcrawler(aurl, path)\n",
    "    except:\n",
    "        continue"
   ]
  },
  {
   "cell_type": "code",
   "execution_count": 4,
   "metadata": {},
   "outputs": [],
   "source": [
    "#Step:4 - Delete empty folders\n",
    "import os\n",
    "\n",
    "dataFolderList = os.listdir(path)\n",
    "for a in dataFolderList:\n",
    "    folderDel = path + a\n",
    "    #Non empty floder will throw an error\n",
    "    try:\n",
    "        os.rmdir(folderDel)\n",
    "    except:\n",
    "        continue\n",
    "\n",
    "if os.path.exists(path) == False:\n",
    "    os.mkdir(path)"
   ]
  },
  {
   "cell_type": "code",
   "execution_count": 5,
   "metadata": {},
   "outputs": [],
   "source": [
    "#Step:5  - Libraries\n",
    "from nltk.tokenize import sent_tokenize\n",
    "import nltk\n",
    "en_stop = set(nltk.corpus.stopwords.words('english'))\n",
    "from nltk.stem import WordNetLemmatizer\n",
    "from bs4 import BeautifulSoup\n",
    "import re\n",
    "import os"
   ]
  },
  {
   "cell_type": "code",
   "execution_count": 6,
   "metadata": {},
   "outputs": [],
   "source": [
    "#Step:6 - html to text convertor function\n",
    "stemmer = WordNetLemmatizer()\n",
    "#Preprocess func\n",
    "def preprocess_text(document):\n",
    "    # Remove all the special characters\n",
    "    document = re.sub(r'\\W', ' ', str(document))\n",
    "    # remove all single characters\n",
    "    document = re.sub(r'\\s+[a-zA-Z]\\s+', ' ', document)\n",
    "    # Remove single characters from the start\n",
    "    document = re.sub(r'\\^[a-zA-Z]\\s+', ' ', document)\n",
    "    # Substituting multiple spaces with single space\n",
    "    document = re.sub(r'\\s+', ' ', document, flags=re.I)\n",
    "    # Removing prefixed 'b'\n",
    "    document = re.sub(r'^b\\s+', '', document)\n",
    "    # Converting to Lowercase\n",
    "    document = document.lower()\n",
    "    # Lemmatization\n",
    "    tokens = document.split()\n",
    "    tokens = [stemmer.lemmatize(word) for word in tokens]\n",
    "    tokens = [word for word in tokens if word not in en_stop]\n",
    "    tokens = [word for word in tokens if len(word) > 3]\n",
    "    preprocessed_text = ' '.join(tokens)\n",
    "    return preprocessed_text\n"
   ]
  },
  {
   "cell_type": "code",
   "execution_count": 7,
   "metadata": {},
   "outputs": [
    {
     "name": "stdout",
     "output_type": "stream",
     "text": [
      "hbo\n"
     ]
    }
   ],
   "source": [
    "#Step:7 - run convertor\n",
    "for j, value in enumerate(dataFolderList):\n",
    "    #Load each site full_website.txt\n",
    "    fullWebFile = path + value + '/' + 'full_website.txt'\n",
    "    print(value)\n",
    "    try:\n",
    "        f = open(fullWebFile, 'r', encoding='utf-8')\n",
    "        data = f.read()\n",
    "        f.close()\n",
    "        data = BeautifulSoup(data, \"html.parser\")\n",
    "        text = data.get_text(strip=True)\n",
    "        #Break html into sentences\n",
    "        text = sent_tokenize(text)\n",
    "        text = preprocess_text(text)\n",
    "        myCleanFile = path + value + '/clean_' + value +'.txt'\n",
    "        file2write = open(myCleanFile, 'w', encoding='utf8')\n",
    "        file2write.write(text)\n",
    "        file2write.close()\n",
    "    except:\n",
    "        continue"
   ]
  },
  {
   "cell_type": "markdown",
   "metadata": {},
   "source": [
    "For the category part, an early pre-phase in need as followed:\n",
    "- We need to create a dictionary by category.\n",
    "- I used the followed link: https://www.wordstream.com/popular-keywords\n",
    "- Dictionary example: {\"car\": \"1\", \"auto\": \"2\", \"used cars\": \"3\", \"autos\": \"4\", \"mechanic\": \"5\", \"automobile\": \"6\"}\n",
    "- File extension should be *.xlsx"
   ]
  },
  {
   "cell_type": "code",
   "execution_count": 8,
   "metadata": {},
   "outputs": [],
   "source": [
    "#Step:8 - Handling the issue of common keywords in other categories & combine all dic into a single list (list of lists)\n",
    "import json\n",
    "dirpath = 'G:/DataScienceProject/webcrawler/'\n",
    "genCatDic = []\n",
    "results = []\n",
    "results += [each for each in os.listdir(dirpath) if each.endswith('.xlsx')]\n",
    "for elem in results:\n",
    "    listName = elem[:-5]\n",
    "    dicName = dirpath + elem\n",
    "    with open(dicName, 'r') as file:\n",
    "        dic = json.load(file)\n",
    "    genCatDic.append(list(dic))\n",
    "\n",
    "#Find non common keyword for category from each categogry type\n",
    "catDic = {}\n",
    "for i, value in enumerate(results):\n",
    "    commonList = []\n",
    "    for j in range(0,len(results)):\n",
    "        if j != i:\n",
    "            commonList += genCatDic[j]\n",
    "\n",
    "    diffList = list(set(genCatDic[i]).difference(commonList))\n",
    "    catDic[value[:-5]] = diffList\n",
    "\n",
    "filename = dirpath + 'categoriesDic.xlsx'\n",
    "with open(filename, 'w') as file:\n",
    "    json.dump(catDic, file)\n"
   ]
  },
  {
   "cell_type": "code",
   "execution_count": 9,
   "metadata": {},
   "outputs": [],
   "source": [
    "#Step:9 - Category prediction\n",
    "import json\n",
    "\n",
    "dicName = 'G:/DataScienceProject/webcrawler/categoriesDic.xlsx'\n",
    "with open(dicName, 'r') as file:\n",
    "    dic = json.load(file)\n",
    "\n",
    "#Load target website after cleansing\n",
    "catList = os.listdir('G:/DataScienceProject/webcrawler/test')\n",
    "for d, valued in enumerate(catList):\n",
    "    filename = path + valued + '/clean_' +valued + '.txt'\n",
    "    f = open(filename, 'r', encoding='utf-8')\n",
    "    websiteData = f.read()\n",
    "    f.close()\n",
    "\n",
    "    #Category classifier\n",
    "    maxCatCounter = 0\n",
    "    for i, valueF in enumerate(dic.keys()):\n",
    "        currentCatCounter = 0\n",
    "        for j, valueG in enumerate(dic[valueF]):\n",
    "            if websiteData.count(valueG) > 0:\n",
    "                currentCatCounter += 1\n",
    "\n",
    "        if currentCatCounter > maxCatCounter:\n",
    "            maxCatCounter = currentCatCounter\n",
    "            catClass = valueF\n",
    "\n",
    "    filename = filename.replace(\"clean_\", \"\")\n",
    "    with open(filename, 'a+') as f:\n",
    "        f.write(f\"Followed report for: {valued}\\nWebsite category: {catClass}\\n\")\n",
    "        f.close()"
   ]
  },
  {
   "cell_type": "code",
   "execution_count": 10,
   "metadata": {},
   "outputs": [],
   "source": [
    "#Step:10 - Profanity check\n",
    "#Load Google profanity\n",
    "profanityPath = 'G:/DataScienceProject/webcrawler/Google-profanity.txt'\n",
    "with open(profanityPath, 'r') as f:\n",
    "    profanity = f.read()\n",
    "    f.close()\n",
    "\n",
    "profanity = profanity.split(\"\\n\")\n",
    "\n",
    "for e, valuee in enumerate(catList):\n",
    "    filename = path + valuee + '/' +valuee + '.txt'\n",
    "    #Load website\n",
    "    f = open(filename, 'r', encoding='utf-8')\n",
    "    websiteData = f.read()\n",
    "    f.close()\n",
    "    websiteData = websiteData.split(\" \")\n",
    "\n",
    "    if set(profanity).intersection(list(set(websiteData))) != 0:\n",
    "        msg = str(len(set(profanity).intersection(list(set(websiteData))))) + \" found\"\n",
    "    else:\n",
    "        msg = \"Clean\"\n",
    "\n",
    "    with open(filename, 'a+') as f:\n",
    "        f.write(f\"Profanity check: {msg}\\n\")\n",
    "        f.close()"
   ]
  },
  {
   "cell_type": "code",
   "execution_count": 11,
   "metadata": {},
   "outputs": [],
   "source": [
    "#Step:11 - SSL check for security function\n",
    "from urllib.request import ssl, socket\n",
    "import json\n",
    "import datetime\n",
    "import time\n",
    "\n",
    "def checkSSL(url, port):\n",
    "    try:\n",
    "        context = ssl.create_default_context()\n",
    "        with socket.create_connection((url, port), timeout=5) as sock:\n",
    "            with context.wrap_socket(sock, server_hostname=url) as ssock:\n",
    "                print(ssock.version())\n",
    "                data = json.dumps(ssock.getpeercert())\n",
    "    except:\n",
    "        msg = \"SSL chcek: connectivity issue\"\n",
    "\n",
    "    if data != '':\n",
    "        notBeforeCert = data[data.find(\"notBefore\")-1:].split('\"')[3]\n",
    "        notBeforeCert = notBeforeCert[:-4] #remove GMT\n",
    "        notAfterCert = data[data.find(\"notAfter\")-1:].split('\"')[3]\n",
    "        notAfterCert = notAfterCert[:-4]\n",
    "\n",
    "        today = datetime.date.today()\n",
    "        currentTime = time.mktime(today.timetuple())\n",
    "        timestruct1 = time.strptime(notBeforeCert, \"%b %d %H:%M:%S %Y\")\n",
    "        before = time.mktime(timestruct1)\n",
    "        timestruct2 = time.strptime(notAfterCert, \"%b %d %H:%M:%S %Y\")\n",
    "        after = time.mktime(timestruct2)\n",
    "\n",
    "        if before < currentTime < after:\n",
    "            msg = \"SSL chcek: valid\"\n",
    "        else:\n",
    "            msg = \"SSL chcek: certificate issue\"\n",
    "\n",
    "    file = url.split(\".\")[1]\n",
    "    path = 'G:/DataScienceProject/webcrawler/test/'\n",
    "    filename = path + file + '/' + file+ '.txt'\n",
    "    with open(filename, 'a+') as f:\n",
    "        f.write(f\"{msg}\\n\")\n",
    "        f.close()\n",
    "\n",
    "    return"
   ]
  },
  {
   "cell_type": "code",
   "execution_count": 12,
   "metadata": {},
   "outputs": [
    {
     "name": "stdout",
     "output_type": "stream",
     "text": [
      "TLSv1.2\n"
     ]
    }
   ],
   "source": [
    "#Step:12 - Actual SSL check \n",
    "#url = 'www.walla.co.il'\n",
    "port = '443'\n",
    "#testList\n",
    "for i, value in enumerate(testList):\n",
    "    if value.count(\"/\") > 0:\n",
    "        value = value.split(\"/\")[2]\n",
    "        url = value\n",
    "    checkSSL(url, port)"
   ]
  },
  {
   "cell_type": "code",
   "execution_count": 13,
   "metadata": {},
   "outputs": [],
   "source": [
    "#Step:13 - Prepare for beb reviews\n",
    "from bs4 import BeautifulSoup\n",
    "import urllib\n",
    "import os\n",
    "\n",
    "def websiteName(url):\n",
    "    global reviewUrl\n",
    "    global newpath\n",
    "    global webpageName\n",
    "    reviewUrl = url.split(\"/\")[2]\n",
    "    reviewUrl = reviewUrl.split(\"www.\")[1]\n",
    "    return reviewUrl"
   ]
  },
  {
   "cell_type": "code",
   "execution_count": 14,
   "metadata": {},
   "outputs": [],
   "source": [
    "#Step:12 - Web review#1\n",
    "def getSitejabber(reviewUrl):\n",
    "    global data\n",
    "    reviewSiteUrl = 'https://www.sitejabber.com/reviews/' + reviewUrl\n",
    "    # Open the URL as Browser, not as python urllib\n",
    "    page = urllib.request.Request(reviewSiteUrl, headers={\n",
    "        'User-Agent': '\"Mozilla/5.0 (Windows NT 10.0; Win64; x64) AppleWebKit/537.36 (KHTML, like Gecko) Chrome/47.0.2526.69 Safari/537.36\"'})\n",
    "    soup = urllib.request.urlopen(page).read()\n",
    "    data = BeautifulSoup(soup, \"html.parser\")\n",
    "    text = data.get_text(strip=True)\n",
    "    position = text.find('stars') #www.sitejabber.com\n",
    "    if position != -1:\n",
    "        text = text[position-5:position-1]\n",
    "    else:\n",
    "        text = 0\n",
    "\n",
    "    path = 'G:/DataScienceProject/webcrawler/test/'\n",
    "    fullFileName = path + reviewUrl[:-4] +  '/' + reviewUrl[:-4] +'.txt'\n",
    "    with open(fullFileName, 'a+') as f:\n",
    "        f.write(f\"website review#1: {text}\\n\")\n",
    "        f.close()\n",
    "    return"
   ]
  },
  {
   "cell_type": "code",
   "execution_count": 15,
   "metadata": {},
   "outputs": [],
   "source": [
    "#Step:13 - Web review#2\n",
    "def getTrustpilot(reviewUrl):\n",
    "    global data\n",
    "    global js\n",
    "    reviewSiteUrl = 'https://www.trustpilot.com/review/www.' + reviewUrl\n",
    "    # Open the URL as Browser, not as python urllib\n",
    "    page = urllib.request.Request(reviewSiteUrl, headers={\n",
    "        'User-Agent': '\"Mozilla/5.0 (Windows NT 10.0; Win64; x64) AppleWebKit/537.36 (KHTML, like Gecko) Chrome/47.0.2526.69 Safari/537.36\"'})\n",
    "    soup = urllib.request.urlopen(page).read()\n",
    "    data = BeautifulSoup(soup, \"html.parser\")\n",
    "    js=str(data.findAll('script'))\n",
    "    js = js[js.find('trustScore'): js.find('trustScore')+18].split(\",\")[0]\n",
    "    if js != '':\n",
    "        js = float(js.split(\":\")[1])\n",
    "    else:\n",
    "        js = 0\n",
    "\n",
    "    path = 'G:/DataScienceProject/webcrawler/test/'\n",
    "    fullFileName = path + reviewUrl[:-4] +  '/' + reviewUrl[:-4] +'.txt'\n",
    "    with open(fullFileName, 'a+') as f:\n",
    "        f.write(f\"website review#2: {js}\\n\")\n",
    "        f.close()\n",
    "    return"
   ]
  },
  {
   "cell_type": "code",
   "execution_count": 16,
   "metadata": {},
   "outputs": [],
   "source": [
    "#Step:14 - actual run for web reviews\n",
    "for i, value in  enumerate(testList):\n",
    "    websiteName(value)\n",
    "    getSitejabber(reviewUrl)\n",
    "    getTrustpilot(reviewUrl)"
   ]
  },
  {
   "cell_type": "code",
   "execution_count": 17,
   "metadata": {},
   "outputs": [
    {
     "name": "stdout",
     "output_type": "stream",
     "text": [
      "Followed report for: hbo\n",
      "Website category: Cellular\n",
      "Profanity check: 0 found\n",
      "SSL chcek: valid\n",
      "website review#1: 4.23\n",
      "website review#2: 1.9\n",
      "\n"
     ]
    }
   ],
   "source": [
    "#Step:15 - Log view (jsu for demo)\n",
    "path = 'G:/DataScienceProject/webcrawler/test/'\n",
    "fullFileName = path + reviewUrl[:-4] +  '/' + reviewUrl[:-4] +'.txt'\n",
    "fullFileName\n",
    "with open(fullFileName, 'r') as f:\n",
    "        log=f.read()\n",
    "        f.close()\n",
    "print(log)"
   ]
  },
  {
   "cell_type": "markdown",
   "metadata": {},
   "source": [
    "## Conclution\n",
    "\n",
    "Its the 1st NLP project from end to end & it's awesome!!!\n",
    "Further to this part, I'd like to check the image recognition for webstie legitimation."
   ]
  }
 ],
 "metadata": {
  "kernelspec": {
   "display_name": "Python 3",
   "language": "python",
   "name": "python3"
  },
  "language_info": {
   "codemirror_mode": {
    "name": "ipython",
    "version": 3
   },
   "file_extension": ".py",
   "mimetype": "text/x-python",
   "name": "python",
   "nbconvert_exporter": "python",
   "pygments_lexer": "ipython3",
   "version": "3.8.2"
  }
 },
 "nbformat": 4,
 "nbformat_minor": 4
}
